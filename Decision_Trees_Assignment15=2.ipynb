{
  "nbformat": 4,
  "nbformat_minor": 0,
  "metadata": {
    "colab": {
      "name": "Decision_Trees_Assignment15=2.ipynb",
      "provenance": [],
      "collapsed_sections": []
    },
    "kernelspec": {
      "name": "python3",
      "display_name": "Python 3"
    },
    "language_info": {
      "name": "python"
    }
  },
  "cells": [
    {
      "cell_type": "code",
      "metadata": {
        "id": "eqp7Q6rWnX20"
      },
      "source": [
        "#Social_Network_Ads.csv"
      ],
      "execution_count": null,
      "outputs": []
    },
    {
      "cell_type": "markdown",
      "metadata": {
        "id": "1jSlqZcZnmrD"
      },
      "source": [
        "**Importing the libraries**"
      ]
    },
    {
      "cell_type": "code",
      "metadata": {
        "id": "ACJTKMfInp-E"
      },
      "source": [
        "import pandas as pd \n",
        "from sklearn.model_selection import train_test_split\n",
        "from sklearn import metrics \n",
        "import seaborn as sn \n",
        "import matplotlib.pyplot as plt "
      ],
      "execution_count": 1,
      "outputs": []
    },
    {
      "cell_type": "markdown",
      "metadata": {
        "id": "fRZkaj-dnxIj"
      },
      "source": [
        "**Importing the dataset**"
      ]
    },
    {
      "cell_type": "code",
      "metadata": {
        "id": "SfTR4mVDnqBV",
        "colab": {
          "base_uri": "https://localhost:8080/",
          "height": 423
        },
        "outputId": "98332266-d660-4529-9b72-e7eddb597668"
      },
      "source": [
        "df=pd.read_csv('/content/Social_Network_Ads (1).csv')\n",
        "df"
      ],
      "execution_count": 10,
      "outputs": [
        {
          "output_type": "execute_result",
          "data": {
            "text/plain": [
              "      User ID  Gender  Age  EstimatedSalary  Purchased\n",
              "0    15624510    Male   19            19000          0\n",
              "1    15810944    Male   35            20000          0\n",
              "2    15668575  Female   26            43000          0\n",
              "3    15603246  Female   27            57000          0\n",
              "4    15804002    Male   19            76000          0\n",
              "..        ...     ...  ...              ...        ...\n",
              "395  15691863  Female   46            41000          1\n",
              "396  15706071    Male   51            23000          1\n",
              "397  15654296  Female   50            20000          1\n",
              "398  15755018    Male   36            33000          0\n",
              "399  15594041  Female   49            36000          1\n",
              "\n",
              "[400 rows x 5 columns]"
            ],
            "text/html": [
              "\n",
              "  <div id=\"df-c1bbaf36-cd0f-4a8d-b403-2c11c9d69ed7\">\n",
              "    <div class=\"colab-df-container\">\n",
              "      <div>\n",
              "<style scoped>\n",
              "    .dataframe tbody tr th:only-of-type {\n",
              "        vertical-align: middle;\n",
              "    }\n",
              "\n",
              "    .dataframe tbody tr th {\n",
              "        vertical-align: top;\n",
              "    }\n",
              "\n",
              "    .dataframe thead th {\n",
              "        text-align: right;\n",
              "    }\n",
              "</style>\n",
              "<table border=\"1\" class=\"dataframe\">\n",
              "  <thead>\n",
              "    <tr style=\"text-align: right;\">\n",
              "      <th></th>\n",
              "      <th>User ID</th>\n",
              "      <th>Gender</th>\n",
              "      <th>Age</th>\n",
              "      <th>EstimatedSalary</th>\n",
              "      <th>Purchased</th>\n",
              "    </tr>\n",
              "  </thead>\n",
              "  <tbody>\n",
              "    <tr>\n",
              "      <th>0</th>\n",
              "      <td>15624510</td>\n",
              "      <td>Male</td>\n",
              "      <td>19</td>\n",
              "      <td>19000</td>\n",
              "      <td>0</td>\n",
              "    </tr>\n",
              "    <tr>\n",
              "      <th>1</th>\n",
              "      <td>15810944</td>\n",
              "      <td>Male</td>\n",
              "      <td>35</td>\n",
              "      <td>20000</td>\n",
              "      <td>0</td>\n",
              "    </tr>\n",
              "    <tr>\n",
              "      <th>2</th>\n",
              "      <td>15668575</td>\n",
              "      <td>Female</td>\n",
              "      <td>26</td>\n",
              "      <td>43000</td>\n",
              "      <td>0</td>\n",
              "    </tr>\n",
              "    <tr>\n",
              "      <th>3</th>\n",
              "      <td>15603246</td>\n",
              "      <td>Female</td>\n",
              "      <td>27</td>\n",
              "      <td>57000</td>\n",
              "      <td>0</td>\n",
              "    </tr>\n",
              "    <tr>\n",
              "      <th>4</th>\n",
              "      <td>15804002</td>\n",
              "      <td>Male</td>\n",
              "      <td>19</td>\n",
              "      <td>76000</td>\n",
              "      <td>0</td>\n",
              "    </tr>\n",
              "    <tr>\n",
              "      <th>...</th>\n",
              "      <td>...</td>\n",
              "      <td>...</td>\n",
              "      <td>...</td>\n",
              "      <td>...</td>\n",
              "      <td>...</td>\n",
              "    </tr>\n",
              "    <tr>\n",
              "      <th>395</th>\n",
              "      <td>15691863</td>\n",
              "      <td>Female</td>\n",
              "      <td>46</td>\n",
              "      <td>41000</td>\n",
              "      <td>1</td>\n",
              "    </tr>\n",
              "    <tr>\n",
              "      <th>396</th>\n",
              "      <td>15706071</td>\n",
              "      <td>Male</td>\n",
              "      <td>51</td>\n",
              "      <td>23000</td>\n",
              "      <td>1</td>\n",
              "    </tr>\n",
              "    <tr>\n",
              "      <th>397</th>\n",
              "      <td>15654296</td>\n",
              "      <td>Female</td>\n",
              "      <td>50</td>\n",
              "      <td>20000</td>\n",
              "      <td>1</td>\n",
              "    </tr>\n",
              "    <tr>\n",
              "      <th>398</th>\n",
              "      <td>15755018</td>\n",
              "      <td>Male</td>\n",
              "      <td>36</td>\n",
              "      <td>33000</td>\n",
              "      <td>0</td>\n",
              "    </tr>\n",
              "    <tr>\n",
              "      <th>399</th>\n",
              "      <td>15594041</td>\n",
              "      <td>Female</td>\n",
              "      <td>49</td>\n",
              "      <td>36000</td>\n",
              "      <td>1</td>\n",
              "    </tr>\n",
              "  </tbody>\n",
              "</table>\n",
              "<p>400 rows × 5 columns</p>\n",
              "</div>\n",
              "      <button class=\"colab-df-convert\" onclick=\"convertToInteractive('df-c1bbaf36-cd0f-4a8d-b403-2c11c9d69ed7')\"\n",
              "              title=\"Convert this dataframe to an interactive table.\"\n",
              "              style=\"display:none;\">\n",
              "        \n",
              "  <svg xmlns=\"http://www.w3.org/2000/svg\" height=\"24px\"viewBox=\"0 0 24 24\"\n",
              "       width=\"24px\">\n",
              "    <path d=\"M0 0h24v24H0V0z\" fill=\"none\"/>\n",
              "    <path d=\"M18.56 5.44l.94 2.06.94-2.06 2.06-.94-2.06-.94-.94-2.06-.94 2.06-2.06.94zm-11 1L8.5 8.5l.94-2.06 2.06-.94-2.06-.94L8.5 2.5l-.94 2.06-2.06.94zm10 10l.94 2.06.94-2.06 2.06-.94-2.06-.94-.94-2.06-.94 2.06-2.06.94z\"/><path d=\"M17.41 7.96l-1.37-1.37c-.4-.4-.92-.59-1.43-.59-.52 0-1.04.2-1.43.59L10.3 9.45l-7.72 7.72c-.78.78-.78 2.05 0 2.83L4 21.41c.39.39.9.59 1.41.59.51 0 1.02-.2 1.41-.59l7.78-7.78 2.81-2.81c.8-.78.8-2.07 0-2.86zM5.41 20L4 18.59l7.72-7.72 1.47 1.35L5.41 20z\"/>\n",
              "  </svg>\n",
              "      </button>\n",
              "      \n",
              "  <style>\n",
              "    .colab-df-container {\n",
              "      display:flex;\n",
              "      flex-wrap:wrap;\n",
              "      gap: 12px;\n",
              "    }\n",
              "\n",
              "    .colab-df-convert {\n",
              "      background-color: #E8F0FE;\n",
              "      border: none;\n",
              "      border-radius: 50%;\n",
              "      cursor: pointer;\n",
              "      display: none;\n",
              "      fill: #1967D2;\n",
              "      height: 32px;\n",
              "      padding: 0 0 0 0;\n",
              "      width: 32px;\n",
              "    }\n",
              "\n",
              "    .colab-df-convert:hover {\n",
              "      background-color: #E2EBFA;\n",
              "      box-shadow: 0px 1px 2px rgba(60, 64, 67, 0.3), 0px 1px 3px 1px rgba(60, 64, 67, 0.15);\n",
              "      fill: #174EA6;\n",
              "    }\n",
              "\n",
              "    [theme=dark] .colab-df-convert {\n",
              "      background-color: #3B4455;\n",
              "      fill: #D2E3FC;\n",
              "    }\n",
              "\n",
              "    [theme=dark] .colab-df-convert:hover {\n",
              "      background-color: #434B5C;\n",
              "      box-shadow: 0px 1px 3px 1px rgba(0, 0, 0, 0.15);\n",
              "      filter: drop-shadow(0px 1px 2px rgba(0, 0, 0, 0.3));\n",
              "      fill: #FFFFFF;\n",
              "    }\n",
              "  </style>\n",
              "\n",
              "      <script>\n",
              "        const buttonEl =\n",
              "          document.querySelector('#df-c1bbaf36-cd0f-4a8d-b403-2c11c9d69ed7 button.colab-df-convert');\n",
              "        buttonEl.style.display =\n",
              "          google.colab.kernel.accessAllowed ? 'block' : 'none';\n",
              "\n",
              "        async function convertToInteractive(key) {\n",
              "          const element = document.querySelector('#df-c1bbaf36-cd0f-4a8d-b403-2c11c9d69ed7');\n",
              "          const dataTable =\n",
              "            await google.colab.kernel.invokeFunction('convertToInteractive',\n",
              "                                                     [key], {});\n",
              "          if (!dataTable) return;\n",
              "\n",
              "          const docLinkHtml = 'Like what you see? Visit the ' +\n",
              "            '<a target=\"_blank\" href=https://colab.research.google.com/notebooks/data_table.ipynb>data table notebook</a>'\n",
              "            + ' to learn more about interactive tables.';\n",
              "          element.innerHTML = '';\n",
              "          dataTable['output_type'] = 'display_data';\n",
              "          await google.colab.output.renderOutput(dataTable, element);\n",
              "          const docLink = document.createElement('div');\n",
              "          docLink.innerHTML = docLinkHtml;\n",
              "          element.appendChild(docLink);\n",
              "        }\n",
              "      </script>\n",
              "    </div>\n",
              "  </div>\n",
              "  "
            ]
          },
          "metadata": {},
          "execution_count": 10
        }
      ]
    },
    {
      "cell_type": "code",
      "source": [
        "df.isnull().sum()"
      ],
      "metadata": {
        "colab": {
          "base_uri": "https://localhost:8080/"
        },
        "id": "pvBfoDcBzZ_Z",
        "outputId": "8511380a-0380-407e-f476-db6e6662fac4"
      },
      "execution_count": 11,
      "outputs": [
        {
          "output_type": "execute_result",
          "data": {
            "text/plain": [
              "User ID            0\n",
              "Gender             0\n",
              "Age                0\n",
              "EstimatedSalary    0\n",
              "Purchased          0\n",
              "dtype: int64"
            ]
          },
          "metadata": {},
          "execution_count": 11
        }
      ]
    },
    {
      "cell_type": "code",
      "source": [
        "df.shape"
      ],
      "metadata": {
        "colab": {
          "base_uri": "https://localhost:8080/"
        },
        "id": "jEpXY4vez0ha",
        "outputId": "eb596f46-9a13-476a-e596-e51831bdf4bb"
      },
      "execution_count": 12,
      "outputs": [
        {
          "output_type": "execute_result",
          "data": {
            "text/plain": [
              "(400, 5)"
            ]
          },
          "metadata": {},
          "execution_count": 12
        }
      ]
    },
    {
      "cell_type": "code",
      "source": [
        "df.dtypes"
      ],
      "metadata": {
        "colab": {
          "base_uri": "https://localhost:8080/"
        },
        "id": "qLb93hf20iog",
        "outputId": "845dadb4-791f-4760-b58e-c4f3da2804d2"
      },
      "execution_count": 15,
      "outputs": [
        {
          "output_type": "execute_result",
          "data": {
            "text/plain": [
              "User ID             int64\n",
              "Gender             object\n",
              "Age                 int64\n",
              "EstimatedSalary     int64\n",
              "Purchased           int64\n",
              "dtype: object"
            ]
          },
          "metadata": {},
          "execution_count": 15
        }
      ]
    },
    {
      "cell_type": "code",
      "source": [
        "df = df.drop_duplicates()\n",
        "df"
      ],
      "metadata": {
        "colab": {
          "base_uri": "https://localhost:8080/",
          "height": 423
        },
        "id": "bruPEUwUz9SY",
        "outputId": "7b2a393c-b113-4caf-fa88-b050ddb3f290"
      },
      "execution_count": 14,
      "outputs": [
        {
          "output_type": "execute_result",
          "data": {
            "text/plain": [
              "      User ID  Gender  Age  EstimatedSalary  Purchased\n",
              "0    15624510    Male   19            19000          0\n",
              "1    15810944    Male   35            20000          0\n",
              "2    15668575  Female   26            43000          0\n",
              "3    15603246  Female   27            57000          0\n",
              "4    15804002    Male   19            76000          0\n",
              "..        ...     ...  ...              ...        ...\n",
              "395  15691863  Female   46            41000          1\n",
              "396  15706071    Male   51            23000          1\n",
              "397  15654296  Female   50            20000          1\n",
              "398  15755018    Male   36            33000          0\n",
              "399  15594041  Female   49            36000          1\n",
              "\n",
              "[400 rows x 5 columns]"
            ],
            "text/html": [
              "\n",
              "  <div id=\"df-5637b4bb-3fc8-4b46-acd2-b61f20e4e090\">\n",
              "    <div class=\"colab-df-container\">\n",
              "      <div>\n",
              "<style scoped>\n",
              "    .dataframe tbody tr th:only-of-type {\n",
              "        vertical-align: middle;\n",
              "    }\n",
              "\n",
              "    .dataframe tbody tr th {\n",
              "        vertical-align: top;\n",
              "    }\n",
              "\n",
              "    .dataframe thead th {\n",
              "        text-align: right;\n",
              "    }\n",
              "</style>\n",
              "<table border=\"1\" class=\"dataframe\">\n",
              "  <thead>\n",
              "    <tr style=\"text-align: right;\">\n",
              "      <th></th>\n",
              "      <th>User ID</th>\n",
              "      <th>Gender</th>\n",
              "      <th>Age</th>\n",
              "      <th>EstimatedSalary</th>\n",
              "      <th>Purchased</th>\n",
              "    </tr>\n",
              "  </thead>\n",
              "  <tbody>\n",
              "    <tr>\n",
              "      <th>0</th>\n",
              "      <td>15624510</td>\n",
              "      <td>Male</td>\n",
              "      <td>19</td>\n",
              "      <td>19000</td>\n",
              "      <td>0</td>\n",
              "    </tr>\n",
              "    <tr>\n",
              "      <th>1</th>\n",
              "      <td>15810944</td>\n",
              "      <td>Male</td>\n",
              "      <td>35</td>\n",
              "      <td>20000</td>\n",
              "      <td>0</td>\n",
              "    </tr>\n",
              "    <tr>\n",
              "      <th>2</th>\n",
              "      <td>15668575</td>\n",
              "      <td>Female</td>\n",
              "      <td>26</td>\n",
              "      <td>43000</td>\n",
              "      <td>0</td>\n",
              "    </tr>\n",
              "    <tr>\n",
              "      <th>3</th>\n",
              "      <td>15603246</td>\n",
              "      <td>Female</td>\n",
              "      <td>27</td>\n",
              "      <td>57000</td>\n",
              "      <td>0</td>\n",
              "    </tr>\n",
              "    <tr>\n",
              "      <th>4</th>\n",
              "      <td>15804002</td>\n",
              "      <td>Male</td>\n",
              "      <td>19</td>\n",
              "      <td>76000</td>\n",
              "      <td>0</td>\n",
              "    </tr>\n",
              "    <tr>\n",
              "      <th>...</th>\n",
              "      <td>...</td>\n",
              "      <td>...</td>\n",
              "      <td>...</td>\n",
              "      <td>...</td>\n",
              "      <td>...</td>\n",
              "    </tr>\n",
              "    <tr>\n",
              "      <th>395</th>\n",
              "      <td>15691863</td>\n",
              "      <td>Female</td>\n",
              "      <td>46</td>\n",
              "      <td>41000</td>\n",
              "      <td>1</td>\n",
              "    </tr>\n",
              "    <tr>\n",
              "      <th>396</th>\n",
              "      <td>15706071</td>\n",
              "      <td>Male</td>\n",
              "      <td>51</td>\n",
              "      <td>23000</td>\n",
              "      <td>1</td>\n",
              "    </tr>\n",
              "    <tr>\n",
              "      <th>397</th>\n",
              "      <td>15654296</td>\n",
              "      <td>Female</td>\n",
              "      <td>50</td>\n",
              "      <td>20000</td>\n",
              "      <td>1</td>\n",
              "    </tr>\n",
              "    <tr>\n",
              "      <th>398</th>\n",
              "      <td>15755018</td>\n",
              "      <td>Male</td>\n",
              "      <td>36</td>\n",
              "      <td>33000</td>\n",
              "      <td>0</td>\n",
              "    </tr>\n",
              "    <tr>\n",
              "      <th>399</th>\n",
              "      <td>15594041</td>\n",
              "      <td>Female</td>\n",
              "      <td>49</td>\n",
              "      <td>36000</td>\n",
              "      <td>1</td>\n",
              "    </tr>\n",
              "  </tbody>\n",
              "</table>\n",
              "<p>400 rows × 5 columns</p>\n",
              "</div>\n",
              "      <button class=\"colab-df-convert\" onclick=\"convertToInteractive('df-5637b4bb-3fc8-4b46-acd2-b61f20e4e090')\"\n",
              "              title=\"Convert this dataframe to an interactive table.\"\n",
              "              style=\"display:none;\">\n",
              "        \n",
              "  <svg xmlns=\"http://www.w3.org/2000/svg\" height=\"24px\"viewBox=\"0 0 24 24\"\n",
              "       width=\"24px\">\n",
              "    <path d=\"M0 0h24v24H0V0z\" fill=\"none\"/>\n",
              "    <path d=\"M18.56 5.44l.94 2.06.94-2.06 2.06-.94-2.06-.94-.94-2.06-.94 2.06-2.06.94zm-11 1L8.5 8.5l.94-2.06 2.06-.94-2.06-.94L8.5 2.5l-.94 2.06-2.06.94zm10 10l.94 2.06.94-2.06 2.06-.94-2.06-.94-.94-2.06-.94 2.06-2.06.94z\"/><path d=\"M17.41 7.96l-1.37-1.37c-.4-.4-.92-.59-1.43-.59-.52 0-1.04.2-1.43.59L10.3 9.45l-7.72 7.72c-.78.78-.78 2.05 0 2.83L4 21.41c.39.39.9.59 1.41.59.51 0 1.02-.2 1.41-.59l7.78-7.78 2.81-2.81c.8-.78.8-2.07 0-2.86zM5.41 20L4 18.59l7.72-7.72 1.47 1.35L5.41 20z\"/>\n",
              "  </svg>\n",
              "      </button>\n",
              "      \n",
              "  <style>\n",
              "    .colab-df-container {\n",
              "      display:flex;\n",
              "      flex-wrap:wrap;\n",
              "      gap: 12px;\n",
              "    }\n",
              "\n",
              "    .colab-df-convert {\n",
              "      background-color: #E8F0FE;\n",
              "      border: none;\n",
              "      border-radius: 50%;\n",
              "      cursor: pointer;\n",
              "      display: none;\n",
              "      fill: #1967D2;\n",
              "      height: 32px;\n",
              "      padding: 0 0 0 0;\n",
              "      width: 32px;\n",
              "    }\n",
              "\n",
              "    .colab-df-convert:hover {\n",
              "      background-color: #E2EBFA;\n",
              "      box-shadow: 0px 1px 2px rgba(60, 64, 67, 0.3), 0px 1px 3px 1px rgba(60, 64, 67, 0.15);\n",
              "      fill: #174EA6;\n",
              "    }\n",
              "\n",
              "    [theme=dark] .colab-df-convert {\n",
              "      background-color: #3B4455;\n",
              "      fill: #D2E3FC;\n",
              "    }\n",
              "\n",
              "    [theme=dark] .colab-df-convert:hover {\n",
              "      background-color: #434B5C;\n",
              "      box-shadow: 0px 1px 3px 1px rgba(0, 0, 0, 0.15);\n",
              "      filter: drop-shadow(0px 1px 2px rgba(0, 0, 0, 0.3));\n",
              "      fill: #FFFFFF;\n",
              "    }\n",
              "  </style>\n",
              "\n",
              "      <script>\n",
              "        const buttonEl =\n",
              "          document.querySelector('#df-5637b4bb-3fc8-4b46-acd2-b61f20e4e090 button.colab-df-convert');\n",
              "        buttonEl.style.display =\n",
              "          google.colab.kernel.accessAllowed ? 'block' : 'none';\n",
              "\n",
              "        async function convertToInteractive(key) {\n",
              "          const element = document.querySelector('#df-5637b4bb-3fc8-4b46-acd2-b61f20e4e090');\n",
              "          const dataTable =\n",
              "            await google.colab.kernel.invokeFunction('convertToInteractive',\n",
              "                                                     [key], {});\n",
              "          if (!dataTable) return;\n",
              "\n",
              "          const docLinkHtml = 'Like what you see? Visit the ' +\n",
              "            '<a target=\"_blank\" href=https://colab.research.google.com/notebooks/data_table.ipynb>data table notebook</a>'\n",
              "            + ' to learn more about interactive tables.';\n",
              "          element.innerHTML = '';\n",
              "          dataTable['output_type'] = 'display_data';\n",
              "          await google.colab.output.renderOutput(dataTable, element);\n",
              "          const docLink = document.createElement('div');\n",
              "          docLink.innerHTML = docLinkHtml;\n",
              "          element.appendChild(docLink);\n",
              "        }\n",
              "      </script>\n",
              "    </div>\n",
              "  </div>\n",
              "  "
            ]
          },
          "metadata": {},
          "execution_count": 14
        }
      ]
    },
    {
      "cell_type": "code",
      "source": [
        "X = df.loc[:,df.columns[2:]]\n",
        "y = df['Gender']\n",
        "y = y.map({'Male':1, 'Female':0})"
      ],
      "metadata": {
        "id": "bKQ7f-wO0m4d"
      },
      "execution_count": 20,
      "outputs": []
    },
    {
      "cell_type": "code",
      "source": [
        "df.dtypes"
      ],
      "metadata": {
        "colab": {
          "base_uri": "https://localhost:8080/"
        },
        "id": "I1tq2OWF02HQ",
        "outputId": "5edaede1-e9fc-40ab-b308-e3aaa4497585"
      },
      "execution_count": 21,
      "outputs": [
        {
          "output_type": "execute_result",
          "data": {
            "text/plain": [
              "User ID             int64\n",
              "Gender             object\n",
              "Age                 int64\n",
              "EstimatedSalary     int64\n",
              "Purchased           int64\n",
              "dtype: object"
            ]
          },
          "metadata": {},
          "execution_count": 21
        }
      ]
    },
    {
      "cell_type": "markdown",
      "metadata": {
        "id": "9Thl3lvkn9Kr"
      },
      "source": [
        "**Splitting the dataset into the Training set and Test set**"
      ]
    },
    {
      "cell_type": "code",
      "metadata": {
        "id": "sp359H4XnqD3"
      },
      "source": [
        "from sklearn.model_selection import train_test_split\n",
        "\n",
        "X_train, X_test, y_train, y_test = train_test_split(X, y, test_size=0.2)"
      ],
      "execution_count": 22,
      "outputs": []
    },
    {
      "cell_type": "markdown",
      "metadata": {
        "id": "XNNxUncRoG6K"
      },
      "source": [
        "**Feature Scaling**"
      ]
    },
    {
      "cell_type": "code",
      "metadata": {
        "id": "loYjT47TnqIG"
      },
      "source": [
        "from sklearn.preprocessing import StandardScaler\n",
        "\n",
        "std = StandardScaler()\n",
        "X_train = std.fit_transform(X_train)\n",
        "x_test = std.transform(X_test)"
      ],
      "execution_count": 24,
      "outputs": []
    },
    {
      "cell_type": "markdown",
      "metadata": {
        "id": "_VB4b09roPhq"
      },
      "source": [
        "**Fitting Decision Tree Classification to the Training set**"
      ]
    },
    {
      "cell_type": "code",
      "metadata": {
        "id": "0UxhDc2lnqKu",
        "colab": {
          "base_uri": "https://localhost:8080/"
        },
        "outputId": "3bbbd04c-7d26-4f29-a43d-dfea81361e71"
      },
      "source": [
        "from sklearn.tree import DecisionTreeClassifier\n",
        "\n",
        "dect = DecisionTreeClassifier()\n",
        "dect.fit(X_train, y_train)"
      ],
      "execution_count": 28,
      "outputs": [
        {
          "output_type": "execute_result",
          "data": {
            "text/plain": [
              "DecisionTreeClassifier()"
            ]
          },
          "metadata": {},
          "execution_count": 28
        }
      ]
    },
    {
      "cell_type": "markdown",
      "metadata": {
        "id": "XOl6_ERWoYh2"
      },
      "source": [
        "**Predicting the Test set results**"
      ]
    },
    {
      "cell_type": "code",
      "metadata": {
        "id": "7xFCuAXjnqPN",
        "colab": {
          "base_uri": "https://localhost:8080/"
        },
        "outputId": "a964b240-59c1-45b9-c025-c5bd8a6ed03c"
      },
      "source": [
        "y_pred = dect.predict(X_test)\n",
        "y_pred"
      ],
      "execution_count": 30,
      "outputs": [
        {
          "output_type": "stream",
          "name": "stderr",
          "text": [
            "/usr/local/lib/python3.7/dist-packages/sklearn/base.py:444: UserWarning: X has feature names, but DecisionTreeClassifier was fitted without feature names\n",
            "  f\"X has feature names, but {self.__class__.__name__} was fitted without\"\n"
          ]
        },
        {
          "output_type": "execute_result",
          "data": {
            "text/plain": [
              "array([1, 1, 1, 1, 1, 1, 1, 1, 1, 1, 1, 1, 1, 1, 1, 1, 1, 1, 1, 1, 1, 1,\n",
              "       1, 1, 1, 1, 1, 1, 1, 1, 1, 1, 1, 1, 1, 1, 1, 1, 1, 1, 1, 1, 1, 1,\n",
              "       1, 1, 1, 1, 1, 1, 1, 1, 1, 1, 1, 1, 1, 1, 1, 1, 1, 1, 1, 1, 1, 1,\n",
              "       1, 1, 1, 1, 1, 1, 1, 1, 1, 1, 1, 1, 1, 1])"
            ]
          },
          "metadata": {},
          "execution_count": 30
        }
      ]
    },
    {
      "cell_type": "code",
      "source": [
        "from sklearn.metrics import accuracy_score, roc_auc_score, plot_roc_curve\n",
        "#we compute the eval metric on test/validation set only primarily\n",
        "\n",
        "# Predict test set labels\n",
        "y_pred = dect.predict(X_test) \n",
        "\n",
        "# Compute test set accuracy\n",
        "acc = accuracy_score(y_test, y_pred)\n",
        "print(\"Test set accuracy: {:.2f}\".format(acc))\n",
        "acc = roc_auc_score(y_test, y_pred)\n",
        "print(\"Test set auc: {:.2f}\".format(acc))\n",
        "plot_roc_curve(dect, X_test, y_test)\n",
        "\n",
        "\n",
        "acc = roc_auc_score(y_train, dect.predict(X_train))\n",
        "print(\"Train set AUC : \", acc)"
      ],
      "metadata": {
        "colab": {
          "base_uri": "https://localhost:8080/",
          "height": 463
        },
        "id": "TvB0zcGK5ZsZ",
        "outputId": "74a221aa-7a8d-497d-fca8-054018ecd051"
      },
      "execution_count": 41,
      "outputs": [
        {
          "output_type": "stream",
          "name": "stderr",
          "text": [
            "/usr/local/lib/python3.7/dist-packages/sklearn/base.py:444: UserWarning: X has feature names, but DecisionTreeClassifier was fitted without feature names\n",
            "  f\"X has feature names, but {self.__class__.__name__} was fitted without\"\n",
            "/usr/local/lib/python3.7/dist-packages/sklearn/utils/deprecation.py:87: FutureWarning: Function plot_roc_curve is deprecated; Function :func:`plot_roc_curve` is deprecated in 1.0 and will be removed in 1.2. Use one of the class methods: :meth:`sklearn.metric.RocCurveDisplay.from_predictions` or :meth:`sklearn.metric.RocCurveDisplay.from_estimator`.\n",
            "  warnings.warn(msg, category=FutureWarning)\n",
            "/usr/local/lib/python3.7/dist-packages/sklearn/base.py:444: UserWarning: X has feature names, but DecisionTreeClassifier was fitted without feature names\n",
            "  f\"X has feature names, but {self.__class__.__name__} was fitted without\"\n"
          ]
        },
        {
          "output_type": "stream",
          "name": "stdout",
          "text": [
            "Test set accuracy: 0.56\n",
            "Test set auc: 0.50\n",
            "Train set AUC :  0.9602649006622517\n"
          ]
        },
        {
          "output_type": "display_data",
          "data": {
            "text/plain": [
              "<Figure size 432x288 with 1 Axes>"
            ],
            "image/png": "[encoded data removed]"
          },
          "metadata": {
            "needs_background": "light"
          }
        }
      ]
    },
    {
      "cell_type": "markdown",
      "metadata": {
        "id": "pqaQ_HTZogaZ"
      },
      "source": [
        "**Making the Confusion Matrix**"
      ]
    },
    {
      "cell_type": "code",
      "metadata": {
        "id": "DdqNOMK8nqSs",
        "colab": {
          "base_uri": "https://localhost:8080/"
        },
        "outputId": "d09459f6-2095-47a7-ea29-626894c7f699"
      },
      "source": [
        "from sklearn.metrics import plot_roc_curve, roc_curve, roc_auc_score, confusion_matrix, f1_score\n",
        "confusion_matrix(y_test,y_pred)"
      ],
      "execution_count": 31,
      "outputs": [
        {
          "output_type": "execute_result",
          "data": {
            "text/plain": [
              "array([[ 0, 35],\n",
              "       [ 0, 45]])"
            ]
          },
          "metadata": {},
          "execution_count": 31
        }
      ]
    },
    {
      "cell_type": "code",
      "source": [
        "confusion_matrix = pd.crosstab(y_test, y_pred, rownames=['Actual'], colnames=['Predicted'])\n",
        "sn.heatmap(confusion_matrix, annot=True)"
      ],
      "metadata": {
        "colab": {
          "base_uri": "https://localhost:8080/",
          "height": 297
        },
        "id": "bgSwadBu2ttb",
        "outputId": "72b0805f-a864-4ad5-c780-a4c68d245c65"
      },
      "execution_count": 32,
      "outputs": [
        {
          "output_type": "execute_result",
          "data": {
            "text/plain": [
              "<matplotlib.axes._subplots.AxesSubplot at 0x7f5eb25022d0>"
            ]
          },
          "metadata": {},
          "execution_count": 32
        },
        {
          "output_type": "display_data",
          "data": {
            "text/plain": [
              "<Figure size 432x288 with 2 Axes>"
            ],
            "image/png": "[encoded data removed]"
          },
          "metadata": {
            "needs_background": "light"
          }
        }
      ]
    },
    {
      "cell_type": "code",
      "metadata": {
        "id": "zHbPz86Noj6d",
        "colab": {
          "base_uri": "https://localhost:8080/",
          "height": 1000
        },
        "outputId": "c8bf85f0-361e-40a1-ee4e-9486bf188293"
      },
      "source": [
        "from sklearn import tree\n",
        "tree.plot_tree(dect)"
      ],
      "execution_count": 33,
      "outputs": [
        {
          "output_type": "execute_result",
          "data": {
            "text/plain": [
              "[Text(0.8072667738970588, 0.9772727272727273, 'X[1] <= 1.154\\ngini = 0.498\\nsamples = 320\\nvalue = [169, 151]'),\n",
              " Text(0.6498276654411764, 0.9318181818181818, 'X[0] <= 1.185\\ngini = 0.5\\nsamples = 273\\nvalue = [137, 136]'),\n",
              " Text(0.4290670955882353, 0.8863636363636364, 'X[1] <= -1.496\\ngini = 0.499\\nsamples = 244\\nvalue = [117, 127]'),\n",
              " Text(0.1, 0.8409090909090909, 'X[1] <= -1.588\\ngini = 0.337\\nsamples = 14\\nvalue = [3, 11]'),\n",
              " Text(0.09215686274509804, 0.7954545454545454, 'X[0] <= -0.665\\ngini = 0.49\\nsamples = 7\\nvalue = [3, 4]'),\n",
              " Text(0.08431372549019608, 0.75, 'X[0] <= -0.859\\ngini = 0.444\\nsamples = 6\\nvalue = [2, 4]'),\n",
              " Text(0.07647058823529412, 0.7045454545454546, 'X[0] <= -1.054\\ngini = 0.5\\nsamples = 4\\nvalue = [2, 2]'),\n",
              " Text(0.06862745098039216, 0.6590909090909091, 'X[1] <= -1.649\\ngini = 0.444\\nsamples = 3\\nvalue = [1, 2]'),\n",
              " Text(0.060784313725490195, 0.6136363636363636, 'gini = 0.5\\nsamples = 2\\nvalue = [1, 1]'),\n",
              " Text(0.07647058823529412, 0.6136363636363636, 'gini = 0.0\\nsamples = 1\\nvalue = [0, 1]'),\n",
              " Text(0.08431372549019608, 0.6590909090909091, 'gini = 0.0\\nsamples = 1\\nvalue = [1, 0]'),\n",
              " Text(0.09215686274509804, 0.7045454545454546, 'gini = 0.0\\nsamples = 2\\nvalue = [0, 2]'),\n",
              " Text(0.1, 0.75, 'gini = 0.0\\nsamples = 1\\nvalue = [1, 0]'),\n",
              " Text(0.10784313725490197, 0.7954545454545454, 'gini = 0.0\\nsamples = 7\\nvalue = [0, 7]'),\n",
              " Text(0.7581341911764706, 0.8409090909090909, 'X[1] <= 0.864\\ngini = 0.5\\nsamples = 230\\nvalue = [114, 116]'),\n",
              " Text(0.6927389705882353, 0.7954545454545454, 'X[1] <= 0.681\\ngini = 0.5\\nsamples = 223\\nvalue = [113, 110]'),\n",
              " Text(0.5854779411764706, 0.75, 'X[1] <= 0.514\\ngini = 0.5\\nsamples = 217\\nvalue = [108, 109]'),\n",
              " Text(0.39448529411764705, 0.7045454545454546, 'X[0] <= -0.275\\ngini = 0.499\\nsamples = 203\\nvalue = [105, 98]'),\n",
              " Text(0.20294117647058824, 0.6590909090909091, 'X[1] <= 0.103\\ngini = 0.488\\nsamples = 83\\nvalue = [48, 35]'),\n",
              " Text(0.09215686274509804, 0.6136363636363636, 'X[1] <= -0.842\\ngini = 0.456\\nsamples = 57\\nvalue = [37, 20]'),\n",
              " Text(0.0392156862745098, 0.5681818181818182, 'X[1] <= -1.344\\ngini = 0.36\\nsamples = 17\\nvalue = [13, 4]'),\n",
              " Text(0.01568627450980392, 0.5227272727272727, 'X[1] <= -1.466\\ngini = 0.5\\nsamples = 4\\nvalue = [2, 2]'),\n",
              " Text(0.00784313725490196, 0.4772727272727273, 'gini = 0.0\\nsamples = 1\\nvalue = [1, 0]'),\n",
              " Text(0.023529411764705882, 0.4772727272727273, 'X[0] <= -1.735\\ngini = 0.444\\nsamples = 3\\nvalue = [1, 2]'),\n",
              " Text(0.01568627450980392, 0.4318181818181818, 'gini = 0.0\\nsamples = 1\\nvalue = [0, 1]'),\n",
              " Text(0.03137254901960784, 0.4318181818181818, 'X[1] <= -1.435\\ngini = 0.5\\nsamples = 2\\nvalue = [1, 1]'),\n",
              " Text(0.023529411764705882, 0.38636363636363635, 'gini = 0.0\\nsamples = 1\\nvalue = [0, 1]'),\n",
              " Text(0.0392156862745098, 0.38636363636363635, 'gini = 0.0\\nsamples = 1\\nvalue = [1, 0]'),\n",
              " Text(0.06274509803921569, 0.5227272727272727, 'X[1] <= -1.161\\ngini = 0.26\\nsamples = 13\\nvalue = [11, 2]'),\n",
              " Text(0.054901960784313725, 0.4772727272727273, 'gini = 0.0\\nsamples = 6\\nvalue = [6, 0]'),\n",
              " Text(0.07058823529411765, 0.4772727272727273, 'X[1] <= -1.116\\ngini = 0.408\\nsamples = 7\\nvalue = [5, 2]'),\n",
              " Text(0.06274509803921569, 0.4318181818181818, 'X[0] <= -1.2\\ngini = 0.444\\nsamples = 3\\nvalue = [1, 2]'),\n",
              " Text(0.054901960784313725, 0.38636363636363635, 'gini = 0.0\\nsamples = 1\\nvalue = [1, 0]'),\n",
              " Text(0.07058823529411765, 0.38636363636363635, 'gini = 0.0\\nsamples = 2\\nvalue = [0, 2]'),\n",
              " Text(0.0784313725490196, 0.4318181818181818, 'gini = 0.0\\nsamples = 4\\nvalue = [4, 0]'),\n",
              " Text(0.1450980392156863, 0.5681818181818182, 'X[0] <= -1.638\\ngini = 0.48\\nsamples = 40\\nvalue = [24, 16]'),\n",
              " Text(0.09411764705882353, 0.5227272727272727, 'X[1] <= -0.293\\ngini = 0.375\\nsamples = 4\\nvalue = [1, 3]'),\n",
              " Text(0.08627450980392157, 0.4772727272727273, 'gini = 0.0\\nsamples = 2\\nvalue = [0, 2]'),\n",
              " Text(0.10196078431372549, 0.4772727272727273, 'X[0] <= -1.832\\ngini = 0.5\\nsamples = 2\\nvalue = [1, 1]'),\n",
              " Text(0.09411764705882353, 0.4318181818181818, 'gini = 0.0\\nsamples = 1\\nvalue = [1, 0]'),\n",
              " Text(0.10980392156862745, 0.4318181818181818, 'gini = 0.0\\nsamples = 1\\nvalue = [0, 1]'),\n",
              " Text(0.19607843137254902, 0.5227272727272727, 'X[1] <= -0.08\\ngini = 0.461\\nsamples = 36\\nvalue = [23, 13]'),\n",
              " Text(0.1568627450980392, 0.4772727272727273, 'X[1] <= -0.369\\ngini = 0.485\\nsamples = 29\\nvalue = [17, 12]'),\n",
              " Text(0.12549019607843137, 0.4318181818181818, 'X[0] <= -0.859\\ngini = 0.415\\nsamples = 17\\nvalue = [12, 5]'),\n",
              " Text(0.10980392156862745, 0.38636363636363635, 'X[0] <= -1.2\\ngini = 0.18\\nsamples = 10\\nvalue = [9, 1]'),\n",
              " Text(0.10196078431372549, 0.3409090909090909, 'X[0] <= -1.346\\ngini = 0.375\\nsamples = 4\\nvalue = [3, 1]'),\n",
              " Text(0.09411764705882353, 0.29545454545454547, 'gini = 0.0\\nsamples = 2\\nvalue = [2, 0]'),\n",
              " Text(0.10980392156862745, 0.29545454545454547, 'gini = 0.5\\nsamples = 2\\nvalue = [1, 1]'),\n",
              " Text(0.11764705882352941, 0.3409090909090909, 'gini = 0.0\\nsamples = 6\\nvalue = [6, 0]'),\n",
              " Text(0.1411764705882353, 0.38636363636363635, 'X[1] <= -0.598\\ngini = 0.49\\nsamples = 7\\nvalue = [3, 4]'),\n",
              " Text(0.13333333333333333, 0.3409090909090909, 'X[1] <= -0.659\\ngini = 0.444\\nsamples = 6\\nvalue = [2, 4]'),\n",
              " Text(0.12549019607843137, 0.29545454545454547, 'X[1] <= -0.75\\ngini = 0.48\\nsamples = 5\\nvalue = [2, 3]'),\n",
              " Text(0.11764705882352941, 0.25, 'X[0] <= -0.373\\ngini = 0.375\\nsamples = 4\\nvalue = [1, 3]'),\n",
              " Text(0.10980392156862745, 0.20454545454545456, 'gini = 0.0\\nsamples = 2\\nvalue = [0, 2]'),\n",
              " Text(0.12549019607843137, 0.20454545454545456, 'gini = 0.5\\nsamples = 2\\nvalue = [1, 1]'),\n",
              " Text(0.13333333333333333, 0.25, 'gini = 0.0\\nsamples = 1\\nvalue = [1, 0]'),\n",
              " Text(0.1411764705882353, 0.29545454545454547, 'gini = 0.0\\nsamples = 1\\nvalue = [0, 1]'),\n",
              " Text(0.14901960784313725, 0.3409090909090909, 'gini = 0.0\\nsamples = 1\\nvalue = [1, 0]'),\n",
              " Text(0.18823529411764706, 0.4318181818181818, 'X[1] <= -0.308\\ngini = 0.486\\nsamples = 12\\nvalue = [5, 7]'),\n",
              " Text(0.17254901960784313, 0.38636363636363635, 'X[0] <= -0.957\\ngini = 0.32\\nsamples = 5\\nvalue = [1, 4]'),\n",
              " Text(0.16470588235294117, 0.3409090909090909, 'X[0] <= -1.151\\ngini = 0.444\\nsamples = 3\\nvalue = [1, 2]'),\n",
              " Text(0.1568627450980392, 0.29545454545454547, 'gini = 0.0\\nsamples = 1\\nvalue = [0, 1]'),\n",
              " Text(0.17254901960784313, 0.29545454545454547, 'gini = 0.5\\nsamples = 2\\nvalue = [1, 1]'),\n",
              " Text(0.1803921568627451, 0.3409090909090909, 'gini = 0.0\\nsamples = 2\\nvalue = [0, 2]'),\n",
              " Text(0.20392156862745098, 0.38636363636363635, 'X[0] <= -1.443\\ngini = 0.49\\nsamples = 7\\nvalue = [4, 3]'),\n",
              " Text(0.19607843137254902, 0.3409090909090909, 'gini = 0.0\\nsamples = 1\\nvalue = [1, 0]'),\n",
              " Text(0.21176470588235294, 0.3409090909090909, 'X[1] <= -0.278\\ngini = 0.5\\nsamples = 6\\nvalue = [3, 3]'),\n",
              " Text(0.20392156862745098, 0.29545454545454547, 'gini = 0.0\\nsamples = 1\\nvalue = [1, 0]'),\n",
              " Text(0.2196078431372549, 0.29545454545454547, 'X[1] <= -0.248\\ngini = 0.48\\nsamples = 5\\nvalue = [2, 3]'),\n",
              " Text(0.21176470588235294, 0.25, 'gini = 0.0\\nsamples = 1\\nvalue = [0, 1]'),\n",
              " Text(0.22745098039215686, 0.25, 'X[0] <= -0.665\\ngini = 0.5\\nsamples = 4\\nvalue = [2, 2]'),\n",
              " Text(0.2196078431372549, 0.20454545454545456, 'X[1] <= -0.217\\ngini = 0.444\\nsamples = 3\\nvalue = [2, 1]'),\n",
              " Text(0.21176470588235294, 0.1590909090909091, 'gini = 0.0\\nsamples = 1\\nvalue = [1, 0]'),\n",
              " Text(0.22745098039215686, 0.1590909090909091, 'X[1] <= -0.156\\ngini = 0.5\\nsamples = 2\\nvalue = [1, 1]'),\n",
              " Text(0.2196078431372549, 0.11363636363636363, 'gini = 0.0\\nsamples = 1\\nvalue = [0, 1]'),\n",
              " Text(0.23529411764705882, 0.11363636363636363, 'gini = 0.0\\nsamples = 1\\nvalue = [1, 0]'),\n",
              " Text(0.23529411764705882, 0.20454545454545456, 'gini = 0.0\\nsamples = 1\\nvalue = [0, 1]'),\n",
              " Text(0.23529411764705882, 0.4772727272727273, 'X[0] <= -1.346\\ngini = 0.245\\nsamples = 7\\nvalue = [6, 1]'),\n",
              " Text(0.22745098039215686, 0.4318181818181818, 'X[1] <= 0.011\\ngini = 0.5\\nsamples = 2\\nvalue = [1, 1]'),\n",
              " Text(0.2196078431372549, 0.38636363636363635, 'gini = 0.0\\nsamples = 1\\nvalue = [1, 0]'),\n",
              " Text(0.23529411764705882, 0.38636363636363635, 'gini = 0.0\\nsamples = 1\\nvalue = [0, 1]'),\n",
              " Text(0.24313725490196078, 0.4318181818181818, 'gini = 0.0\\nsamples = 5\\nvalue = [5, 0]'),\n",
              " Text(0.3137254901960784, 0.6136363636363636, 'X[1] <= 0.362\\ngini = 0.488\\nsamples = 26\\nvalue = [11, 15]'),\n",
              " Text(0.27450980392156865, 0.5681818181818182, 'X[1] <= 0.24\\ngini = 0.278\\nsamples = 12\\nvalue = [2, 10]'),\n",
              " Text(0.26666666666666666, 0.5227272727272727, 'gini = 0.0\\nsamples = 3\\nvalue = [0, 3]'),\n",
              " Text(0.2823529411764706, 0.5227272727272727, 'X[0] <= -0.762\\ngini = 0.346\\nsamples = 9\\nvalue = [2, 7]'),\n",
              " Text(0.26666666666666666, 0.4772727272727273, 'X[0] <= -1.151\\ngini = 0.245\\nsamples = 7\\nvalue = [1, 6]'),\n",
              " Text(0.25882352941176473, 0.4318181818181818, 'gini = 0.0\\nsamples = 2\\nvalue = [0, 2]'),\n",
              " Text(0.27450980392156865, 0.4318181818181818, 'X[0] <= -1.005\\ngini = 0.32\\nsamples = 5\\nvalue = [1, 4]'),\n",
              " Text(0.26666666666666666, 0.38636363636363635, 'X[1] <= 0.331\\ngini = 0.444\\nsamples = 3\\nvalue = [1, 2]'),\n",
              " Text(0.25882352941176473, 0.3409090909090909, 'gini = 0.5\\nsamples = 2\\nvalue = [1, 1]'),\n",
              " Text(0.27450980392156865, 0.3409090909090909, 'gini = 0.0\\nsamples = 1\\nvalue = [0, 1]'),\n",
              " Text(0.2823529411764706, 0.38636363636363635, 'gini = 0.0\\nsamples = 2\\nvalue = [0, 2]'),\n",
              " Text(0.2980392156862745, 0.4772727272727273, 'X[1] <= 0.301\\ngini = 0.5\\nsamples = 2\\nvalue = [1, 1]'),\n",
              " Text(0.2901960784313726, 0.4318181818181818, 'gini = 0.0\\nsamples = 1\\nvalue = [1, 0]'),\n",
              " Text(0.3058823529411765, 0.4318181818181818, 'gini = 0.0\\nsamples = 1\\nvalue = [0, 1]'),\n",
              " Text(0.35294117647058826, 0.5681818181818182, 'X[0] <= -1.054\\ngini = 0.459\\nsamples = 14\\nvalue = [9, 5]'),\n",
              " Text(0.34509803921568627, 0.5227272727272727, 'X[1] <= 0.453\\ngini = 0.494\\nsamples = 9\\nvalue = [4, 5]'),\n",
              " Text(0.32941176470588235, 0.4772727272727273, 'X[0] <= -1.784\\ngini = 0.48\\nsamples = 5\\nvalue = [3, 2]'),\n",
              " Text(0.3215686274509804, 0.4318181818181818, 'gini = 0.0\\nsamples = 1\\nvalue = [0, 1]'),\n",
              " Text(0.33725490196078434, 0.4318181818181818, 'X[0] <= -1.492\\ngini = 0.375\\nsamples = 4\\nvalue = [3, 1]'),\n",
              " Text(0.32941176470588235, 0.38636363636363635, 'gini = 0.0\\nsamples = 2\\nvalue = [2, 0]'),\n",
              " Text(0.34509803921568627, 0.38636363636363635, 'X[0] <= -1.2\\ngini = 0.5\\nsamples = 2\\nvalue = [1, 1]'),\n",
              " Text(0.33725490196078434, 0.3409090909090909, 'gini = 0.0\\nsamples = 1\\nvalue = [0, 1]'),\n",
              " Text(0.35294117647058826, 0.3409090909090909, 'gini = 0.0\\nsamples = 1\\nvalue = [1, 0]'),\n",
              " Text(0.3607843137254902, 0.4772727272727273, 'X[0] <= -1.832\\ngini = 0.375\\nsamples = 4\\nvalue = [1, 3]'),\n",
              " Text(0.35294117647058826, 0.4318181818181818, 'gini = 0.0\\nsamples = 1\\nvalue = [1, 0]'),\n",
              " Text(0.3686274509803922, 0.4318181818181818, 'gini = 0.0\\nsamples = 3\\nvalue = [0, 3]'),\n",
              " Text(0.3607843137254902, 0.5227272727272727, 'gini = 0.0\\nsamples = 5\\nvalue = [5, 0]'),\n",
              " Text(0.5860294117647059, 0.6590909090909091, 'X[1] <= 0.301\\ngini = 0.499\\nsamples = 120\\nvalue = [57, 63]'),\n",
              " Text(0.4583333333333333, 0.6136363636363636, 'X[1] <= -1.253\\ngini = 0.496\\nsamples = 114\\nvalue = [52, 62]'),\n",
              " Text(0.39215686274509803, 0.5681818181818182, 'X[1] <= -1.344\\ngini = 0.397\\nsamples = 11\\nvalue = [3, 8]'),\n",
              " Text(0.3843137254901961, 0.5227272727272727, 'X[2] <= 0.359\\ngini = 0.5\\nsamples = 6\\nvalue = [3, 3]'),\n",
              " Text(0.3764705882352941, 0.4772727272727273, 'gini = 0.0\\nsamples = 2\\nvalue = [2, 0]'),\n",
              " Text(0.39215686274509803, 0.4772727272727273, 'X[1] <= -1.435\\ngini = 0.375\\nsamples = 4\\nvalue = [1, 3]'),\n",
              " Text(0.3843137254901961, 0.4318181818181818, 'gini = 0.5\\nsamples = 2\\nvalue = [1, 1]'),\n",
              " Text(0.4, 0.4318181818181818, 'gini = 0.0\\nsamples = 2\\nvalue = [0, 2]'),\n",
              " Text(0.4, 0.5227272727272727, 'gini = 0.0\\nsamples = 5\\nvalue = [0, 5]'),\n",
              " Text(0.5245098039215687, 0.5681818181818182, 'X[1] <= -0.583\\ngini = 0.499\\nsamples = 103\\nvalue = [49, 54]'),\n",
              " Text(0.43333333333333335, 0.5227272727272727, 'X[1] <= -1.161\\ngini = 0.466\\nsamples = 27\\nvalue = [17, 10]'),\n",
              " Text(0.42549019607843136, 0.4772727272727273, 'gini = 0.0\\nsamples = 3\\nvalue = [3, 0]'),\n",
              " Text(0.4411764705882353, 0.4772727272727273, 'X[1] <= -1.055\\ngini = 0.486\\nsamples = 24\\nvalue = [14, 10]'),\n",
              " Text(0.41568627450980394, 0.4318181818181818, 'X[0] <= 0.455\\ngini = 0.32\\nsamples = 5\\nvalue = [1, 4]'),\n",
              " Text(0.40784313725490196, 0.38636363636363635, 'X[0] <= -0.081\\ngini = 0.5\\nsamples = 2\\nvalue = [1, 1]'),\n",
              " Text(0.4, 0.3409090909090909, 'gini = 0.0\\nsamples = 1\\nvalue = [0, 1]'),\n",
              " Text(0.41568627450980394, 0.3409090909090909, 'gini = 0.0\\nsamples = 1\\nvalue = [1, 0]'),\n",
              " Text(0.4235294117647059, 0.38636363636363635, 'gini = 0.0\\nsamples = 3\\nvalue = [0, 3]'),\n",
              " Text(0.4666666666666667, 0.4318181818181818, 'X[2] <= 0.359\\ngini = 0.432\\nsamples = 19\\nvalue = [13, 6]'),\n",
              " Text(0.4588235294117647, 0.38636363636363635, 'X[1] <= -0.796\\ngini = 0.497\\nsamples = 13\\nvalue = [7, 6]'),\n",
              " Text(0.43137254901960786, 0.3409090909090909, 'X[0] <= 0.406\\ngini = 0.375\\nsamples = 4\\nvalue = [1, 3]'),\n",
              " Text(0.4235294117647059, 0.29545454545454547, 'gini = 0.0\\nsamples = 2\\nvalue = [0, 2]'),\n",
              " Text(0.4392156862745098, 0.29545454545454547, 'X[0] <= 0.795\\ngini = 0.5\\nsamples = 2\\nvalue = [1, 1]'),\n",
              " Text(0.43137254901960786, 0.25, 'gini = 0.0\\nsamples = 1\\nvalue = [1, 0]'),\n",
              " Text(0.4470588235294118, 0.25, 'gini = 0.0\\nsamples = 1\\nvalue = [0, 1]'),\n",
              " Text(0.48627450980392156, 0.3409090909090909, 'X[0] <= 0.163\\ngini = 0.444\\nsamples = 9\\nvalue = [6, 3]'),\n",
              " Text(0.47058823529411764, 0.29545454545454547, 'X[1] <= -0.644\\ngini = 0.278\\nsamples = 6\\nvalue = [5, 1]'),\n",
              " Text(0.4627450980392157, 0.25, 'gini = 0.0\\nsamples = 2\\nvalue = [2, 0]'),\n",
              " Text(0.47843137254901963, 0.25, 'X[0] <= -0.178\\ngini = 0.375\\nsamples = 4\\nvalue = [3, 1]'),\n",
              " Text(0.47058823529411764, 0.20454545454545456, 'gini = 0.5\\nsamples = 2\\nvalue = [1, 1]'),\n",
              " Text(0.48627450980392156, 0.20454545454545456, 'gini = 0.0\\nsamples = 2\\nvalue = [2, 0]'),\n",
              " Text(0.5019607843137255, 0.29545454545454547, 'X[0] <= 0.649\\ngini = 0.444\\nsamples = 3\\nvalue = [1, 2]'),\n",
              " Text(0.49411764705882355, 0.25, 'gini = 0.0\\nsamples = 2\\nvalue = [0, 2]'),\n",
              " Text(0.5098039215686274, 0.25, 'gini = 0.0\\nsamples = 1\\nvalue = [1, 0]'),\n",
              " Text(0.4745098039215686, 0.38636363636363635, 'gini = 0.0\\nsamples = 6\\nvalue = [6, 0]'),\n",
              " Text(0.615686274509804, 0.5227272727272727, 'X[1] <= -0.308\\ngini = 0.488\\nsamples = 76\\nvalue = [32, 44]'),\n",
              " Text(0.5411764705882353, 0.4772727272727273, 'X[1] <= -0.461\\ngini = 0.386\\nsamples = 23\\nvalue = [6, 17]'),\n",
              " Text(0.5098039215686274, 0.4318181818181818, 'X[0] <= 0.211\\ngini = 0.298\\nsamples = 11\\nvalue = [2, 9]'),\n",
              " Text(0.5019607843137255, 0.38636363636363635, 'gini = 0.0\\nsamples = 5\\nvalue = [0, 5]'),\n",
              " Text(0.5176470588235295, 0.38636363636363635, 'X[1] <= -0.552\\ngini = 0.444\\nsamples = 6\\nvalue = [2, 4]'),\n",
              " Text(0.5098039215686274, 0.3409090909090909, 'gini = 0.0\\nsamples = 1\\nvalue = [1, 0]'),\n",
              " Text(0.5254901960784314, 0.3409090909090909, 'X[1] <= -0.522\\ngini = 0.32\\nsamples = 5\\nvalue = [1, 4]'),\n",
              " Text(0.5176470588235295, 0.29545454545454547, 'gini = 0.0\\nsamples = 2\\nvalue = [0, 2]'),\n",
              " Text(0.5333333333333333, 0.29545454545454547, 'X[1] <= -0.491\\ngini = 0.444\\nsamples = 3\\nvalue = [1, 2]'),\n",
              " Text(0.5254901960784314, 0.25, 'gini = 0.0\\nsamples = 1\\nvalue = [1, 0]'),\n",
              " Text(0.5411764705882353, 0.25, 'gini = 0.0\\nsamples = 2\\nvalue = [0, 2]'),\n",
              " Text(0.5725490196078431, 0.4318181818181818, 'X[0] <= 0.211\\ngini = 0.444\\nsamples = 12\\nvalue = [4, 8]'),\n",
              " Text(0.5647058823529412, 0.38636363636363635, 'X[0] <= 0.017\\ngini = 0.5\\nsamples = 8\\nvalue = [4, 4]'),\n",
              " Text(0.5568627450980392, 0.3409090909090909, 'X[1] <= -0.415\\ngini = 0.444\\nsamples = 6\\nvalue = [2, 4]'),\n",
              " Text(0.5490196078431373, 0.29545454545454547, 'gini = 0.0\\nsamples = 2\\nvalue = [0, 2]'),\n",
              " Text(0.5647058823529412, 0.29545454545454547, 'X[1] <= -0.369\\ngini = 0.5\\nsamples = 4\\nvalue = [2, 2]'),\n",
              " Text(0.5568627450980392, 0.25, 'gini = 0.0\\nsamples = 2\\nvalue = [2, 0]'),\n",
              " Text(0.5725490196078431, 0.25, 'gini = 0.0\\nsamples = 2\\nvalue = [0, 2]'),\n",
              " Text(0.5725490196078431, 0.3409090909090909, 'gini = 0.0\\nsamples = 2\\nvalue = [2, 0]'),\n",
              " Text(0.5803921568627451, 0.38636363636363635, 'gini = 0.0\\nsamples = 4\\nvalue = [0, 4]'),\n",
              " Text(0.6901960784313725, 0.4772727272727273, 'X[0] <= 0.601\\ngini = 0.5\\nsamples = 53\\nvalue = [26, 27]'),\n",
              " Text(0.6823529411764706, 0.4318181818181818, 'X[0] <= 0.114\\ngini = 0.499\\nsamples = 50\\nvalue = [26, 24]'),\n",
              " Text(0.6313725490196078, 0.38636363636363635, 'X[1] <= 0.087\\ngini = 0.473\\nsamples = 26\\nvalue = [10, 16]'),\n",
              " Text(0.611764705882353, 0.3409090909090909, 'X[0] <= 0.017\\ngini = 0.5\\nsamples = 16\\nvalue = [8, 8]'),\n",
              " Text(0.596078431372549, 0.29545454545454547, 'X[2] <= 0.359\\ngini = 0.463\\nsamples = 11\\nvalue = [7, 4]'),\n",
              " Text(0.5882352941176471, 0.25, 'X[1] <= -0.248\\ngini = 0.42\\nsamples = 10\\nvalue = [7, 3]'),\n",
              " Text(0.5725490196078431, 0.20454545454545456, 'X[0] <= -0.178\\ngini = 0.444\\nsamples = 3\\nvalue = [1, 2]'),\n",
              " Text(0.5647058823529412, 0.1590909090909091, 'X[1] <= -0.278\\ngini = 0.5\\nsamples = 2\\nvalue = [1, 1]'),\n",
              " Text(0.5568627450980392, 0.11363636363636363, 'gini = 0.0\\nsamples = 1\\nvalue = [1, 0]'),\n",
              " Text(0.5725490196078431, 0.11363636363636363, 'gini = 0.0\\nsamples = 1\\nvalue = [0, 1]'),\n",
              " Text(0.5803921568627451, 0.1590909090909091, 'gini = 0.0\\nsamples = 1\\nvalue = [0, 1]'),\n",
              " Text(0.6039215686274509, 0.20454545454545456, 'X[1] <= 0.057\\ngini = 0.245\\nsamples = 7\\nvalue = [6, 1]'),\n",
              " Text(0.596078431372549, 0.1590909090909091, 'gini = 0.0\\nsamples = 5\\nvalue = [5, 0]'),\n",
              " Text(0.611764705882353, 0.1590909090909091, 'gini = 0.5\\nsamples = 2\\nvalue = [1, 1]'),\n",
              " Text(0.6039215686274509, 0.25, 'gini = 0.0\\nsamples = 1\\nvalue = [0, 1]'),\n",
              " Text(0.6274509803921569, 0.29545454545454547, 'X[1] <= -0.202\\ngini = 0.32\\nsamples = 5\\nvalue = [1, 4]'),\n",
              " Text(0.6196078431372549, 0.25, 'gini = 0.0\\nsamples = 2\\nvalue = [0, 2]'),\n",
              " Text(0.6352941176470588, 0.25, 'X[1] <= -0.05\\ngini = 0.444\\nsamples = 3\\nvalue = [1, 2]'),\n",
              " Text(0.6274509803921569, 0.20454545454545456, 'gini = 0.0\\nsamples = 1\\nvalue = [1, 0]'),\n",
              " Text(0.6431372549019608, 0.20454545454545456, 'gini = 0.0\\nsamples = 2\\nvalue = [0, 2]'),\n",
              " Text(0.6509803921568628, 0.3409090909090909, 'X[0] <= -0.178\\ngini = 0.32\\nsamples = 10\\nvalue = [2, 8]'),\n",
              " Text(0.6431372549019608, 0.29545454545454547, 'gini = 0.0\\nsamples = 4\\nvalue = [0, 4]'),\n",
              " Text(0.6588235294117647, 0.29545454545454547, 'X[0] <= -0.081\\ngini = 0.444\\nsamples = 6\\nvalue = [2, 4]'),\n",
              " Text(0.6509803921568628, 0.25, 'gini = 0.0\\nsamples = 1\\nvalue = [1, 0]'),\n",
              " Text(0.6666666666666666, 0.25, 'X[2] <= 0.359\\ngini = 0.32\\nsamples = 5\\nvalue = [1, 4]'),\n",
              " Text(0.6588235294117647, 0.20454545454545456, 'gini = 0.0\\nsamples = 3\\nvalue = [0, 3]'),\n",
              " Text(0.6745098039215687, 0.20454545454545456, 'X[1] <= 0.27\\ngini = 0.5\\nsamples = 2\\nvalue = [1, 1]'),\n",
              " Text(0.6666666666666666, 0.1590909090909091, 'gini = 0.0\\nsamples = 1\\nvalue = [1, 0]'),\n",
              " Text(0.6823529411764706, 0.1590909090909091, 'gini = 0.0\\nsamples = 1\\nvalue = [0, 1]'),\n",
              " Text(0.7333333333333333, 0.38636363636363635, 'X[1] <= -0.278\\ngini = 0.444\\nsamples = 24\\nvalue = [16, 8]'),\n",
              " Text(0.7254901960784313, 0.3409090909090909, 'gini = 0.0\\nsamples = 2\\nvalue = [2, 0]'),\n",
              " Text(0.7411764705882353, 0.3409090909090909, 'X[1] <= -0.065\\ngini = 0.463\\nsamples = 22\\nvalue = [14, 8]'),\n",
              " Text(0.7215686274509804, 0.29545454545454547, 'X[1] <= -0.171\\ngini = 0.48\\nsamples = 5\\nvalue = [2, 3]'),\n",
              " Text(0.7137254901960784, 0.25, 'X[1] <= -0.232\\ngini = 0.444\\nsamples = 3\\nvalue = [2, 1]'),\n",
              " Text(0.7058823529411765, 0.20454545454545456, 'X[0] <= 0.211\\ngini = 0.5\\nsamples = 2\\nvalue = [1, 1]'),\n",
              " Text(0.6980392156862745, 0.1590909090909091, 'gini = 0.0\\nsamples = 1\\nvalue = [1, 0]'),\n",
              " Text(0.7137254901960784, 0.1590909090909091, 'gini = 0.0\\nsamples = 1\\nvalue = [0, 1]'),\n",
              " Text(0.7215686274509804, 0.20454545454545456, 'gini = 0.0\\nsamples = 1\\nvalue = [1, 0]'),\n",
              " Text(0.7294117647058823, 0.25, 'gini = 0.0\\nsamples = 2\\nvalue = [0, 2]'),\n",
              " Text(0.7607843137254902, 0.29545454545454547, 'X[0] <= 0.406\\ngini = 0.415\\nsamples = 17\\nvalue = [12, 5]'),\n",
              " Text(0.7529411764705882, 0.25, 'X[1] <= 0.194\\ngini = 0.459\\nsamples = 14\\nvalue = [9, 5]'),\n",
              " Text(0.7372549019607844, 0.20454545454545456, 'X[2] <= 0.359\\ngini = 0.397\\nsamples = 11\\nvalue = [8, 3]'),\n",
              " Text(0.7294117647058823, 0.1590909090909091, 'X[0] <= 0.309\\ngini = 0.42\\nsamples = 10\\nvalue = [7, 3]'),\n",
              " Text(0.7137254901960784, 0.11363636363636363, 'X[1] <= 0.072\\ngini = 0.48\\nsamples = 5\\nvalue = [3, 2]'),\n",
              " Text(0.7058823529411765, 0.06818181818181818, 'gini = 0.5\\nsamples = 2\\nvalue = [1, 1]'),\n",
              " Text(0.7215686274509804, 0.06818181818181818, 'X[0] <= 0.211\\ngini = 0.444\\nsamples = 3\\nvalue = [2, 1]'),\n",
              " Text(0.7137254901960784, 0.022727272727272728, 'gini = 0.0\\nsamples = 1\\nvalue = [1, 0]'),\n",
              " Text(0.7294117647058823, 0.022727272727272728, 'gini = 0.5\\nsamples = 2\\nvalue = [1, 1]'),\n",
              " Text(0.7450980392156863, 0.11363636363636363, 'X[1] <= 0.057\\ngini = 0.32\\nsamples = 5\\nvalue = [4, 1]'),\n",
              " Text(0.7372549019607844, 0.06818181818181818, 'gini = 0.0\\nsamples = 1\\nvalue = [1, 0]'),\n",
              " Text(0.7529411764705882, 0.06818181818181818, 'gini = 0.375\\nsamples = 4\\nvalue = [3, 1]'),\n",
              " Text(0.7450980392156863, 0.1590909090909091, 'gini = 0.0\\nsamples = 1\\nvalue = [1, 0]'),\n",
              " Text(0.7686274509803922, 0.20454545454545456, 'X[1] <= 0.255\\ngini = 0.444\\nsamples = 3\\nvalue = [1, 2]'),\n",
              " Text(0.7607843137254902, 0.1590909090909091, 'gini = 0.0\\nsamples = 1\\nvalue = [0, 1]'),\n",
              " Text(0.7764705882352941, 0.1590909090909091, 'X[0] <= 0.26\\ngini = 0.5\\nsamples = 2\\nvalue = [1, 1]'),\n",
              " Text(0.7686274509803922, 0.11363636363636363, 'gini = 0.0\\nsamples = 1\\nvalue = [1, 0]'),\n",
              " Text(0.7843137254901961, 0.11363636363636363, 'gini = 0.0\\nsamples = 1\\nvalue = [0, 1]'),\n",
              " Text(0.7686274509803922, 0.25, 'gini = 0.0\\nsamples = 3\\nvalue = [3, 0]'),\n",
              " Text(0.6980392156862745, 0.4318181818181818, 'gini = 0.0\\nsamples = 3\\nvalue = [0, 3]'),\n",
              " Text(0.7137254901960784, 0.6136363636363636, 'X[0] <= 0.406\\ngini = 0.278\\nsamples = 6\\nvalue = [5, 1]'),\n",
              " Text(0.7058823529411765, 0.5681818181818182, 'gini = 0.0\\nsamples = 3\\nvalue = [3, 0]'),\n",
              " Text(0.7215686274509804, 0.5681818181818182, 'X[0] <= 0.649\\ngini = 0.444\\nsamples = 3\\nvalue = [2, 1]'),\n",
              " Text(0.7137254901960784, 0.5227272727272727, 'X[2] <= 0.359\\ngini = 0.5\\nsamples = 2\\nvalue = [1, 1]'),\n",
              " Text(0.7058823529411765, 0.4772727272727273, 'gini = 0.0\\nsamples = 1\\nvalue = [0, 1]'),\n",
              " Text(0.7215686274509804, 0.4772727272727273, 'gini = 0.0\\nsamples = 1\\nvalue = [1, 0]'),\n",
              " Text(0.7294117647058823, 0.5227272727272727, 'gini = 0.0\\nsamples = 1\\nvalue = [1, 0]'),\n",
              " Text(0.7764705882352941, 0.7045454545454546, 'X[0] <= -0.421\\ngini = 0.337\\nsamples = 14\\nvalue = [3, 11]'),\n",
              " Text(0.7686274509803922, 0.6590909090909091, 'X[0] <= -0.665\\ngini = 0.444\\nsamples = 9\\nvalue = [3, 6]'),\n",
              " Text(0.7607843137254902, 0.6136363636363636, 'X[0] <= -0.811\\ngini = 0.375\\nsamples = 8\\nvalue = [2, 6]'),\n",
              " Text(0.7529411764705882, 0.5681818181818182, 'X[0] <= -0.957\\ngini = 0.444\\nsamples = 6\\nvalue = [2, 4]'),\n",
              " Text(0.7450980392156863, 0.5227272727272727, 'X[0] <= -1.249\\ngini = 0.32\\nsamples = 5\\nvalue = [1, 4]'),\n",
              " Text(0.7372549019607844, 0.4772727272727273, 'X[0] <= -1.443\\ngini = 0.5\\nsamples = 2\\nvalue = [1, 1]'),\n",
              " Text(0.7294117647058823, 0.4318181818181818, 'gini = 0.0\\nsamples = 1\\nvalue = [0, 1]'),\n",
              " Text(0.7450980392156863, 0.4318181818181818, 'gini = 0.0\\nsamples = 1\\nvalue = [1, 0]'),\n",
              " Text(0.7529411764705882, 0.4772727272727273, 'gini = 0.0\\nsamples = 3\\nvalue = [0, 3]'),\n",
              " Text(0.7607843137254902, 0.5227272727272727, 'gini = 0.0\\nsamples = 1\\nvalue = [1, 0]'),\n",
              " Text(0.7686274509803922, 0.5681818181818182, 'gini = 0.0\\nsamples = 2\\nvalue = [0, 2]'),\n",
              " Text(0.7764705882352941, 0.6136363636363636, 'gini = 0.0\\nsamples = 1\\nvalue = [1, 0]'),\n",
              " Text(0.7843137254901961, 0.6590909090909091, 'gini = 0.0\\nsamples = 5\\nvalue = [0, 5]'),\n",
              " Text(0.8, 0.75, 'X[0] <= 0.065\\ngini = 0.278\\nsamples = 6\\nvalue = [5, 1]'),\n",
              " Text(0.792156862745098, 0.7045454545454546, 'gini = 0.0\\nsamples = 3\\nvalue = [3, 0]'),\n",
              " Text(0.807843137254902, 0.7045454545454546, 'X[0] <= 0.503\\ngini = 0.444\\nsamples = 3\\nvalue = [2, 1]'),\n",
              " Text(0.8, 0.6590909090909091, 'gini = 0.0\\nsamples = 1\\nvalue = [0, 1]'),\n",
              " Text(0.8156862745098039, 0.6590909090909091, 'gini = 0.0\\nsamples = 2\\nvalue = [2, 0]'),\n",
              " Text(0.8235294117647058, 0.7954545454545454, 'X[0] <= 0.698\\ngini = 0.245\\nsamples = 7\\nvalue = [1, 6]'),\n",
              " Text(0.8156862745098039, 0.75, 'gini = 0.0\\nsamples = 6\\nvalue = [0, 6]'),\n",
              " Text(0.8313725490196079, 0.75, 'gini = 0.0\\nsamples = 1\\nvalue = [1, 0]'),\n",
              " Text(0.8705882352941177, 0.8863636363636364, 'X[0] <= 2.158\\ngini = 0.428\\nsamples = 29\\nvalue = [20, 9]'),\n",
              " Text(0.8627450980392157, 0.8409090909090909, 'X[0] <= 1.963\\ngini = 0.32\\nsamples = 25\\nvalue = [20, 5]'),\n",
              " Text(0.8549019607843137, 0.7954545454545454, 'X[1] <= 0.255\\ngini = 0.444\\nsamples = 15\\nvalue = [10, 5]'),\n",
              " Text(0.8470588235294118, 0.75, 'X[1] <= -0.385\\ngini = 0.496\\nsamples = 11\\nvalue = [6, 5]'),\n",
              " Text(0.8392156862745098, 0.7045454545454546, 'X[0] <= 1.282\\ngini = 0.375\\nsamples = 8\\nvalue = [6, 2]'),\n",
              " Text(0.8313725490196079, 0.6590909090909091, 'gini = 0.0\\nsamples = 2\\nvalue = [2, 0]'),\n",
              " Text(0.8470588235294118, 0.6590909090909091, 'X[1] <= -0.948\\ngini = 0.444\\nsamples = 6\\nvalue = [4, 2]'),\n",
              " Text(0.8392156862745098, 0.6136363636363636, 'X[0] <= 1.379\\ngini = 0.32\\nsamples = 5\\nvalue = [4, 1]'),\n",
              " Text(0.8313725490196079, 0.5681818181818182, 'gini = 0.0\\nsamples = 1\\nvalue = [0, 1]'),\n",
              " Text(0.8470588235294118, 0.5681818181818182, 'gini = 0.0\\nsamples = 4\\nvalue = [4, 0]'),\n",
              " Text(0.8549019607843137, 0.6136363636363636, 'gini = 0.0\\nsamples = 1\\nvalue = [0, 1]'),\n",
              " Text(0.8549019607843137, 0.7045454545454546, 'gini = 0.0\\nsamples = 3\\nvalue = [0, 3]'),\n",
              " Text(0.8627450980392157, 0.75, 'gini = 0.0\\nsamples = 4\\nvalue = [4, 0]'),\n",
              " Text(0.8705882352941177, 0.7954545454545454, 'gini = 0.0\\nsamples = 10\\nvalue = [10, 0]'),\n",
              " Text(0.8784313725490196, 0.8409090909090909, 'gini = 0.0\\nsamples = 4\\nvalue = [0, 4]'),\n",
              " Text(0.9647058823529412, 0.9318181818181818, 'X[0] <= 1.769\\ngini = 0.435\\nsamples = 47\\nvalue = [32, 15]'),\n",
              " Text(0.9450980392156862, 0.8863636363636364, 'X[0] <= 0.893\\ngini = 0.408\\nsamples = 42\\nvalue = [30, 12]'),\n",
              " Text(0.9294117647058824, 0.8409090909090909, 'X[1] <= 2.296\\ngini = 0.464\\nsamples = 30\\nvalue = [19, 11]'),\n",
              " Text(0.9215686274509803, 0.7954545454545454, 'X[1] <= 2.189\\ngini = 0.488\\nsamples = 26\\nvalue = [15, 11]'),\n",
              " Text(0.9137254901960784, 0.75, 'X[0] <= 0.795\\ngini = 0.48\\nsamples = 25\\nvalue = [15, 10]'),\n",
              " Text(0.9058823529411765, 0.7045454545454546, 'X[0] <= -0.081\\ngini = 0.469\\nsamples = 24\\nvalue = [15, 9]'),\n",
              " Text(0.8862745098039215, 0.6590909090909091, 'X[0] <= -0.373\\ngini = 0.5\\nsamples = 14\\nvalue = [7, 7]'),\n",
              " Text(0.8705882352941177, 0.6136363636363636, 'X[1] <= 1.504\\ngini = 0.375\\nsamples = 8\\nvalue = [6, 2]'),\n",
              " Text(0.8627450980392157, 0.5681818181818182, 'gini = 0.0\\nsamples = 6\\nvalue = [6, 0]'),\n",
              " Text(0.8784313725490196, 0.5681818181818182, 'gini = 0.0\\nsamples = 2\\nvalue = [0, 2]'),\n",
              " Text(0.9019607843137255, 0.6136363636363636, 'X[1] <= 1.702\\ngini = 0.278\\nsamples = 6\\nvalue = [1, 5]'),\n",
              " Text(0.8941176470588236, 0.5681818181818182, 'gini = 0.0\\nsamples = 5\\nvalue = [0, 5]'),\n",
              " Text(0.9098039215686274, 0.5681818181818182, 'gini = 0.0\\nsamples = 1\\nvalue = [1, 0]'),\n",
              " Text(0.9254901960784314, 0.6590909090909091, 'X[1] <= 1.549\\ngini = 0.32\\nsamples = 10\\nvalue = [8, 2]'),\n",
              " Text(0.9176470588235294, 0.6136363636363636, 'gini = 0.0\\nsamples = 3\\nvalue = [3, 0]'),\n",
              " Text(0.9333333333333333, 0.6136363636363636, 'X[1] <= 1.839\\ngini = 0.408\\nsamples = 7\\nvalue = [5, 2]'),\n",
              " Text(0.9254901960784314, 0.5681818181818182, 'gini = 0.0\\nsamples = 1\\nvalue = [0, 1]'),\n",
              " Text(0.9411764705882353, 0.5681818181818182, 'X[0] <= 0.357\\ngini = 0.278\\nsamples = 6\\nvalue = [5, 1]'),\n",
              " Text(0.9333333333333333, 0.5227272727272727, 'X[0] <= 0.065\\ngini = 0.444\\nsamples = 3\\nvalue = [2, 1]'),\n",
              " Text(0.9254901960784314, 0.4772727272727273, 'gini = 0.0\\nsamples = 1\\nvalue = [1, 0]'),\n",
              " Text(0.9411764705882353, 0.4772727272727273, 'gini = 0.5\\nsamples = 2\\nvalue = [1, 1]'),\n",
              " Text(0.9490196078431372, 0.5227272727272727, 'gini = 0.0\\nsamples = 3\\nvalue = [3, 0]'),\n",
              " Text(0.9215686274509803, 0.7045454545454546, 'gini = 0.0\\nsamples = 1\\nvalue = [0, 1]'),\n",
              " Text(0.9294117647058824, 0.75, 'gini = 0.0\\nsamples = 1\\nvalue = [0, 1]'),\n",
              " Text(0.9372549019607843, 0.7954545454545454, 'gini = 0.0\\nsamples = 4\\nvalue = [4, 0]'),\n",
              " Text(0.9607843137254902, 0.8409090909090909, 'X[1] <= 2.387\\ngini = 0.153\\nsamples = 12\\nvalue = [11, 1]'),\n",
              " Text(0.9529411764705882, 0.7954545454545454, 'gini = 0.0\\nsamples = 11\\nvalue = [11, 0]'),\n",
              " Text(0.9686274509803922, 0.7954545454545454, 'gini = 0.0\\nsamples = 1\\nvalue = [0, 1]'),\n",
              " Text(0.984313725490196, 0.8863636363636364, 'X[1] <= 1.717\\ngini = 0.48\\nsamples = 5\\nvalue = [2, 3]'),\n",
              " Text(0.9764705882352941, 0.8409090909090909, 'gini = 0.0\\nsamples = 2\\nvalue = [2, 0]'),\n",
              " Text(0.9921568627450981, 0.8409090909090909, 'gini = 0.0\\nsamples = 3\\nvalue = [0, 3]')]"
            ]
          },
          "metadata": {},
          "execution_count": 33
        },
        {
          "output_type": "display_data",
          "data": {
            "text/plain": [
              "<Figure size 432x288 with 1 Axes>"
            ],
            "image/png": "[encoded data removed]"
          },
          "metadata": {
            "needs_background": "light"
          }
        }
      ]
    },
    {
      "cell_type": "code",
      "metadata": {
        "id": "Cexs-z2Lo4p0",
        "colab": {
          "base_uri": "https://localhost:8080/",
          "height": 500
        },
        "outputId": "c7bf025b-e4f7-4f6b-a899-f3f0a2d7502c"
      },
      "source": [
        "fig, axes = plt.subplots(nrows = 1,ncols = 1,figsize = (4,4), dpi=150)\n",
        "tree.plot_tree(dect,\n",
        "               feature_names = X_test.columns,\n",
        "               filled = True);\n",
        "fig.savefig('imagename.png')"
      ],
      "execution_count": 37,
      "outputs": [
        {
          "output_type": "display_data",
          "data": {
            "text/plain": [
              "<Figure size 600x600 with 1 Axes>"
            ],
            "image/png": "[encoded data removed]"
          },
          "metadata": {
            "needs_background": "light"
          }
        }
      ]
    },
    {
      "cell_type": "code",
      "metadata": {
        "id": "RjB1Bbi4o4tm"
      },
      "source": [
        ""
      ],
      "execution_count": null,
      "outputs": []
    },
    {
      "cell_type": "code",
      "metadata": {
        "id": "mRqoaIx_o4xV"
      },
      "source": [
        ""
      ],
      "execution_count": null,
      "outputs": []
    },
    {
      "cell_type": "code",
      "metadata": {
        "id": "m__02I84nqYf"
      },
      "source": [
        ""
      ],
      "execution_count": null,
      "outputs": []
    }
  ]
}